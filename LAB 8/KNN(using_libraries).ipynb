{
  "nbformat": 4,
  "nbformat_minor": 0,
  "metadata": {
    "colab": {
      "name": "KNN(using libraries).ipynb",
      "provenance": [],
      "collapsed_sections": [],
      "include_colab_link": true
    },
    "kernelspec": {
      "name": "python3",
      "display_name": "Python 3"
    },
    "language_info": {
      "name": "python"
    }
  },
  "cells": [
    {
      "cell_type": "markdown",
      "metadata": {
        "id": "view-in-github",
        "colab_type": "text"
      },
      "source": [
        "<a href=\"https://colab.research.google.com/github/niths1271/MACHINE-LEARNING-LAB/blob/main/LAB%208/KNN(using_libraries).ipynb\" target=\"_parent\"><img src=\"https://colab.research.google.com/assets/colab-badge.svg\" alt=\"Open In Colab\"/></a>"
      ]
    },
    {
      "cell_type": "code",
      "metadata": {
        "colab": {
          "base_uri": "https://localhost:8080/"
        },
        "id": "1sjPz4zV9b8x",
        "outputId": "e96d1490-172e-4c3b-8f85-3f2cdf68a14c"
      },
      "source": [
        "from sklearn.model_selection import train_test_split\n",
        "from sklearn.neighbors import KNeighborsClassifier\n",
        "from sklearn.metrics import classification_report, confusion_matrix\n",
        "from sklearn import datasets\n",
        "\n",
        "iris=datasets.load_iris()\n",
        "\n",
        "x = iris.data\n",
        "y = iris.target\n",
        "\n",
        "# print ('sepal-length', 'sepal-width', 'petal-length', 'petal-width')\n",
        "# # print(x)\n",
        "# print('class: 0-Iris-Setosa, 1- Iris-Versicolour, 2- Iris-Virginica')\n",
        "# # print(y)\n",
        "\n",
        "x_train, x_test, y_train, y_test = train_test_split(x,y,test_size=0.3)\n",
        "\n",
        "#To Training the model and Nearest nighbors K=5\n",
        "classifier = KNeighborsClassifier(n_neighbors=5)\n",
        "classifier.fit(x_train, y_train)\n",
        "\n",
        "#To make predictions on our test data\n",
        "y_pred=classifier.predict(x_test)\n",
        "\n",
        "print('Confusion Matrix')\n",
        "print(confusion_matrix(y_test,y_pred))\n",
        "print('Accuracy Metrics')\n",
        "print(classification_report(y_test,y_pred))\n"
      ],
      "execution_count": null,
      "outputs": [
        {
          "output_type": "stream",
          "name": "stdout",
          "text": [
            "Confusion Matrix\n",
            "[[13  0  0]\n",
            " [ 0 13  2]\n",
            " [ 0  1 16]]\n",
            "Accuracy Metrics\n",
            "              precision    recall  f1-score   support\n",
            "\n",
            "           0       1.00      1.00      1.00        13\n",
            "           1       0.93      0.87      0.90        15\n",
            "           2       0.89      0.94      0.91        17\n",
            "\n",
            "    accuracy                           0.93        45\n",
            "   macro avg       0.94      0.94      0.94        45\n",
            "weighted avg       0.93      0.93      0.93        45\n",
            "\n"
          ]
        }
      ]
    }
  ]
}